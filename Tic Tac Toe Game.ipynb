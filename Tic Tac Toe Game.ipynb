{
 "cells": [
  {
   "cell_type": "markdown",
   "metadata": {},
   "source": [
    "# Tic Tac Toe Game \n",
    "## Let's Begin!!"
   ]
  },
  {
   "cell_type": "code",
   "execution_count": 1,
   "metadata": {},
   "outputs": [],
   "source": [
    "from IPython.display import clear_output\n",
    "def game_board(board):\n",
    "    clear_output()\n",
    "    print(f' {board[6]} | {board[7]} | {board[8]}')\n",
    "    print('   |   |   ')\n",
    "    print('-----------')\n",
    "    print(f' {board[3]} | {board[4]} | {board[5]}')\n",
    "    print('   |   |   ')\n",
    "    print('-----------')\n",
    "    print(f' {board[0]} | {board[1]} | {board[2]}')\n",
    "    print('   |   |   ')"
   ]
  },
  {
   "cell_type": "code",
   "execution_count": 2,
   "metadata": {},
   "outputs": [],
   "source": [
    "def take_input():\n",
    "    ip = input('Player1:Do you want to be player X or O?')\n",
    "    print('Player1 will go first.')\n",
    "    while True:\n",
    "        ans = input('Are you ready to play?(Yes/No)')\n",
    "        if ans.capitalize()=='Yes':\n",
    "            return ip.upper()\n",
    "        else:\n",
    "            continue"
   ]
  },
  {
   "cell_type": "code",
   "execution_count": 3,
   "metadata": {},
   "outputs": [],
   "source": [
    "def place_values(Xo,board):\n",
    "    position=int(input('Choose position from 1 to 9'))\n",
    "    while board[position-1]!= \" \":\n",
    "        position=int(input('Choose position from 1 to 9'))\n",
    "    board[position-1] = Xo\n",
    "    if Xo=='X':\n",
    "        Xo='O'\n",
    "    else:\n",
    "        Xo='X'\n",
    "    game_board(board)\n",
    "    check_status(board,Xo)"
   ]
  },
  {
   "cell_type": "code",
   "execution_count": 4,
   "metadata": {},
   "outputs": [],
   "source": [
    "def check_status(board,Xo):\n",
    "    if board[0]==board[1]==board[2]!=\" \" or board[3]==board[4]==board[5]!=\" \" or board[6]==board[7]==board[8]!= \" \":\n",
    "        print(\"Congratulations!! You have won the game!!\")\n",
    "        replay()\n",
    "    elif board[0]==board[3]==board[6]!=\" \" or board[1]==board[4]==board[7]!=\" \" or board[2]==board[5]==board[8]!=\" \":\n",
    "        print(\"Congratulations!! You have won the game!!\")\n",
    "        replay()\n",
    "    elif board[0]==board[4]==board[8]!=\" \" or board[2]==board[4]==board[6]!=\" \":\n",
    "        print(\"Congratulations!! You have won the game!!\")\n",
    "        replay()\n",
    "    elif \" \" not in board:\n",
    "        print(\"It is a Tie!!\")\n",
    "        replay()\n",
    "    else:\n",
    "        place_values(Xo,board)\n",
    "        "
   ]
  },
  {
   "cell_type": "code",
   "execution_count": 5,
   "metadata": {},
   "outputs": [],
   "source": [
    "def mainfunc():\n",
    "    clear_output()\n",
    "    print('WELCOME TO TIC TAC TOE GAME!!!!')\n",
    "    board=[\" \",\" \",\" \",\" \",\" \",\" \",\" \",\" \",\" \"]\n",
    "    ip = take_input()\n",
    "    place_values(ip,board)\n",
    "    "
   ]
  },
  {
   "cell_type": "code",
   "execution_count": 6,
   "metadata": {},
   "outputs": [],
   "source": [
    "def replay():\n",
    "    ans = input(\"Want to play again?(Yes/No)\")\n",
    "    if ans.capitalize()=='Yes':\n",
    "        mainfunc()"
   ]
  },
  {
   "cell_type": "code",
   "execution_count": 7,
   "metadata": {},
   "outputs": [
    {
     "name": "stdout",
     "output_type": "stream",
     "text": [
      " X |   |  \n",
      "   |   |   \n",
      "-----------\n",
      " X | O |  \n",
      "   |   |   \n",
      "-----------\n",
      " X | O |  \n",
      "   |   |   \n",
      "Congratulations!! You have won the game!!\n",
      "Want to play again?(Yes/No)no\n"
     ]
    }
   ],
   "source": [
    "mainfunc()"
   ]
  },
  {
   "cell_type": "markdown",
   "metadata": {},
   "source": []
  },
  {
   "cell_type": "code",
   "execution_count": null,
   "metadata": {},
   "outputs": [],
   "source": []
  }
 ],
 "metadata": {
  "kernelspec": {
   "display_name": "Python 3",
   "language": "python",
   "name": "python3"
  },
  "language_info": {
   "codemirror_mode": {
    "name": "ipython",
    "version": 3
   },
   "file_extension": ".py",
   "mimetype": "text/x-python",
   "name": "python",
   "nbconvert_exporter": "python",
   "pygments_lexer": "ipython3",
   "version": "3.6.5"
  }
 },
 "nbformat": 4,
 "nbformat_minor": 2
}
